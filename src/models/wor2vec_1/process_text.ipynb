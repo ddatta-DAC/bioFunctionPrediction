{
 "cells": [
  {
   "cell_type": "code",
   "execution_count": 1,
   "metadata": {},
   "outputs": [],
   "source": [
    "import spacy\n",
    "import textacy\n",
    "nlp = spacy.load('en')\n",
    "import re\n",
    "import json \n",
    "from pprint import pprint"
   ]
  },
  {
   "cell_type": "code",
   "execution_count": null,
   "metadata": {},
   "outputs": [],
   "source": [
    "def match_id_pattern(text):\n",
    "    pattern = 'id: GO:[0-9]*$'\n",
    "    m = re.search(pattern, text)\n",
    "    if m is not None:\n",
    "        return True\n",
    "    else:\n",
    "        return False\n",
    "\n",
    "def match_def_pattern(text):\n",
    "    pattern = '^def:*'\n",
    "    m = re.search(pattern, text)\n",
    "    if m is not None:\n",
    "        return True\n",
    "    else:\n",
    "        return False\n",
    "  \n",
    "\n",
    "res_dict = {}\n",
    "key = None\n",
    "val = None\n",
    "with open('go.obo','r') as f:\n",
    "    l = f.readline()\n",
    "    while l:\n",
    "        l = l.strip('\\n')\n",
    "        txt = l.strip()\n",
    "        if match_id_pattern(txt):\n",
    "            key = txt\n",
    "        if match_def_pattern(txt):\n",
    "            val = txt\n",
    "            res_dict[key] = val\n",
    "        l = f.readline()\n",
    "  \n",
    "temp_json = 'temp_data.json'\n",
    "with open(temp_json, 'w') as file:\n",
    "     file.write(json.dumps(res_dict))    \n",
    "with open(temp_json) as tmp_file:\n",
    "    data_dict = json.loads(tmp_file.read())\n",
    "\n",
    "\n",
    "\n",
    "stop_words = ['OBSOLETE','def','\"']\n",
    "\n",
    "def process_key(key_txt):\n",
    "    res = key_txt.split(':')[-1]\n",
    "    return res\n",
    "\n",
    "def process_val(val_txt):\n",
    "    global stop_words\n",
    "    for s in stop_words:\n",
    "        try :\n",
    "            val_txt = val_txt.replace(s,'')\n",
    "        except:\n",
    "            pass\n",
    "    return  val_txt\n",
    "\n",
    "data_dict_1 = {}\n",
    "for k,v in data_dict.items():\n",
    "    k = process_key(k)\n",
    "    v = process_val(v)\n",
    "    data_dict_1[k] = v\n",
    "    \n",
    "temp_json_1 = 'temp_data_1.json'\n",
    "with open(temp_json_1, 'w') as file:\n",
    "     file.write(json.dumps(data_dict_1))     \n",
    "temp_json_1 = 'temp_data_1.json'\n",
    "with open(temp_json_1) as tmp_file:\n",
    "    data_dict_2 = json.loads(tmp_file.read())\n",
    "    \n",
    "    \n",
    "def tokenize_text(txt):\n",
    "    txt = textacy.preprocess.remove_punct(txt, marks=';,:[]')\n",
    "    \n",
    "    doc = textacy.Doc(txt,lang='en')\n",
    "    res = []\n",
    "    for s in textacy.extract.words(doc, exclude_pos='ADP', min_freq=1):\n",
    "        res.append(str(s).lower())\n",
    "    return res\n",
    "\n",
    "#-----------#\n",
    "\n",
    "for k,v in data_dict_2.items():\n",
    "    v = tokenize_text(v)\n",
    "    data_dict_2[k] = v\n",
    "    \n",
    "temp_json_2 = 'temp_data_2.json'\n",
    "with open(temp_json_2, 'w') as file:\n",
    "     file.write(json.dumps(data_dict_2))  \n",
    "    "
   ]
  },
  {
   "cell_type": "code",
   "execution_count": 2,
   "metadata": {},
   "outputs": [
    {
     "ename": "ImportError",
     "evalue": "No module named 'gensim'",
     "traceback": [
      "\u001b[0;31m---------------------------------------------------------------------------\u001b[0m",
      "\u001b[0;31mImportError\u001b[0m                               Traceback (most recent call last)",
      "\u001b[0;32m<ipython-input-2-e70e92d32c6e>\u001b[0m in \u001b[0;36m<module>\u001b[0;34m()\u001b[0m\n\u001b[0;32m----> 1\u001b[0;31m \u001b[0;32mimport\u001b[0m \u001b[0mgensim\u001b[0m\u001b[0;34m\u001b[0m\u001b[0m\n\u001b[0m",
      "\u001b[0;31mImportError\u001b[0m: No module named 'gensim'"
     ],
     "output_type": "error"
    }
   ],
   "source": [
    "import gensim"
   ]
  },
  {
   "cell_type": "code",
   "execution_count": 5,
   "metadata": {},
   "outputs": [
    {
     "ename": "ImportError",
     "evalue": "No module named 'gensim'",
     "traceback": [
      "\u001b[0;31m---------------------------------------------------------------------------\u001b[0m",
      "\u001b[0;31mImportError\u001b[0m                               Traceback (most recent call last)",
      "\u001b[0;32m<ipython-input-5-9e5c1ed49779>\u001b[0m in \u001b[0;36m<module>\u001b[0;34m()\u001b[0m\n\u001b[0;32m----> 1\u001b[0;31m \u001b[0;32mimport\u001b[0m \u001b[0mgensim\u001b[0m\u001b[0;34m\u001b[0m\u001b[0m\n\u001b[0m\u001b[1;32m      2\u001b[0m \u001b[0;34m\u001b[0m\u001b[0m\n\u001b[1;32m      3\u001b[0m \u001b[0mtemp_json_2\u001b[0m \u001b[0;34m=\u001b[0m \u001b[0;34m'temp_data_2.json'\u001b[0m\u001b[0;34m\u001b[0m\u001b[0m\n\u001b[1;32m      4\u001b[0m \u001b[0;32mwith\u001b[0m \u001b[0mopen\u001b[0m\u001b[0;34m(\u001b[0m\u001b[0mtemp_json_2\u001b[0m\u001b[0;34m)\u001b[0m \u001b[0;32mas\u001b[0m \u001b[0mtmp_file\u001b[0m\u001b[0;34m:\u001b[0m\u001b[0;34m\u001b[0m\u001b[0m\n\u001b[1;32m      5\u001b[0m     \u001b[0mdata_dict_2\u001b[0m \u001b[0;34m=\u001b[0m \u001b[0mjson\u001b[0m\u001b[0;34m.\u001b[0m\u001b[0mloads\u001b[0m\u001b[0;34m(\u001b[0m\u001b[0mtmp_file\u001b[0m\u001b[0;34m.\u001b[0m\u001b[0mread\u001b[0m\u001b[0;34m(\u001b[0m\u001b[0;34m)\u001b[0m\u001b[0;34m)\u001b[0m\u001b[0;34m\u001b[0m\u001b[0m\n",
      "\u001b[0;31mImportError\u001b[0m: No module named 'gensim'"
     ],
     "output_type": "error"
    }
   ],
   "source": [
    "temp_json_2 = 'temp_data_2.json'\n",
    "with open(temp_json_2) as tmp_file:\n",
    "    data_dict_2 = json.loads(tmp_file.read())\n",
    "\n",
    "sentences = []\n",
    "for k,v in data_dict_2.items():\n",
    "    sentences.append(v)\n",
    "\n",
    "model = Word2Vec(sentences,window=3,size=256,workers=8)"
   ]
  },
  {
   "cell_type": "code",
   "execution_count": 30,
   "metadata": {},
   "outputs": [],
   "source": [
    "nlp = spacy.load('en')\n",
    "\n",
    "def tokenize_text(txt):\n",
    "    txt = textacy.preprocess.remove_punct(txt, marks=';,:[]')\n",
    "    res = []\n",
    "    doc = nlp(txt)\n",
    "    tokens = [t for t in doc]\n",
    "    for i in range(len(tokens)):\n",
    "        # Lemmatization\n",
    "        t = str(tokens[i].lemma_)\n",
    "        res.append(t)\n",
    "    txt = ' '.join(res)\n",
    "    res = []\n",
    "    txt = textacy.preprocess.normalize_whitespace(txt)\n",
    "    doc = textacy.Doc(txt,lang='en')\n",
    "    for s in textacy.extract.words(doc, exclude_pos= None, min_freq=1):\n",
    "        res.append(str(s).lower())\n",
    "    return res"
   ]
  },
  {
   "cell_type": "code",
   "execution_count": 31,
   "metadata": {},
   "outputs": [
    {
     "data": {
      "text/plain": [
       "['process',\n",
       " 'modulate',\n",
       " 'frequency',\n",
       " 'rate',\n",
       " 'extent',\n",
       " 'anthocyanin',\n",
       " 'catabolic',\n",
       " 'process',\n",
       " 'goc',\n",
       " 'termgenie']"
      ]
     },
     "execution_count": 31,
     "metadata": {},
     "output_type": "execute_result"
    }
   ],
   "source": [
    "s ='Any process that modulates the frequency, rate or extent of anthocyanin catabolic process. [GOC:TermGenie]'\n",
    "tokenize_text(s)"
   ]
  },
  {
   "cell_type": "code",
   "execution_count": null,
   "metadata": {},
   "outputs": [],
   "source": []
  }
 ],
 "metadata": {
  "kernelspec": {
   "display_name": "Python 3",
   "language": "python",
   "name": "python3"
  },
  "language_info": {
   "codemirror_mode": {
    "name": "ipython",
    "version": 3
   },
   "file_extension": ".py",
   "mimetype": "text/x-python",
   "name": "python",
   "nbconvert_exporter": "python",
   "pygments_lexer": "ipython3",
   "version": "3.5.2"
  }
 },
 "nbformat": 4,
 "nbformat_minor": 2
}
